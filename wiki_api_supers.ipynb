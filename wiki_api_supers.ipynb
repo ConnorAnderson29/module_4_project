{
 "cells": [
  {
   "cell_type": "markdown",
   "metadata": {},
   "source": [
    "## Aquiring the Data\n",
    "\n",
    "For our model we need background stories for many different heroes and villains. We decided to collect these from wikipedia.\n",
    "\n",
    "### The Wikipedia API\n",
    "\n",
    "Wikipedia has an api, which is pretty useful on its own, but there are also packages that streamline the process, and add extra features."
   ]
  },
  {
   "cell_type": "code",
   "execution_count": null,
   "metadata": {},
   "outputs": [],
   "source": [
    "import requests\n",
    "import wikipedia\n",
    "import string\n",
    "from wikiparse import WikiParser\n",
    "%load_ext autoreload\n",
    "%autoreload 2"
   ]
  },
  {
   "cell_type": "markdown",
   "metadata": {},
   "source": [
    "First, we tried querying from the basic API. By making 'member requests' we can get members of a category. Each member has a pagid and a title, which we can use to search for a specific page."
   ]
  },
  {
   "cell_type": "code",
   "execution_count": null,
   "metadata": {},
   "outputs": [],
   "source": [
    "S = requests.Session()\n",
    "\n",
    "URL = \"https://en.wikipedia.org/w/api.php\"\n",
    "\n",
    "TITLE = \"Category:Marvel Comics supervillains\"\n",
    "\n",
    "PARAMS = {\n",
    "    'action': \"query\",\n",
    "    'list': 'categorymembers',\n",
    "    'cmtitle': TITLE,\n",
    "    'cmlimit': '100',\n",
    "    'format': \"json\",\n",
    "}\n",
    "\n",
    "R = S.get(url=URL, params=PARAMS)\n",
    "DATA = R.json()\n",
    "ids = [item['title'] for ind,item in enumerate(DATA['query']['categorymembers'])]\n",
    "ids[:20]"
   ]
  },
  {
   "cell_type": "markdown",
   "metadata": {},
   "source": [
    "Double checking to make sure it returns the right number of entries."
   ]
  },
  {
   "cell_type": "code",
   "execution_count": null,
   "metadata": {},
   "outputs": [],
   "source": [
    "len(ids)"
   ]
  },
  {
   "cell_type": "markdown",
   "metadata": {},
   "source": [
    "When you search for a page with the basic API returns the content of a page as html, so we need to find a way to turn it into plain text. Here we are testing a method for taking a list of titles and extracting the plaintext version of each one.\n",
    "\n",
    "It turns out that the `wikipedia` package automatically returns pages with a `content` field, which contains the plaintext version of the page. By using this package we only need to do a little cleaning of the text before attaching it to a list."
   ]
  },
  {
   "cell_type": "code",
   "execution_count": null,
   "metadata": {},
   "outputs": [],
   "source": [
    "bios = []\n",
    "miss = 0\n",
    "\n",
    "for id in ids:\n",
    "    try:\n",
    "        hero = wikipedia.page(id)\n",
    "        bio = get_bio(hero)\n",
    "        if bio != -1:\n",
    "            bios.append(bio)\n",
    "    except wikipedia.exceptions.DisambiguationError:\n",
    "        miss += 1"
   ]
  },
  {
   "cell_type": "markdown",
   "metadata": {},
   "source": [
    "## Collecting the Data\n",
    "\n",
    "Below is the final code for scanning through the entire wikipedia category for Marvel Comics Superheroes 100 entries at a time, and then processing each 100 entries, and adding them to a list. We have a created a custom object to handle many of the functions involved.\n",
    "\n",
    "This cell only downloads the entries for heroes, the villains are collected later."
   ]
  },
  {
   "cell_type": "code",
   "execution_count": null,
   "metadata": {},
   "outputs": [],
   "source": [
    "#S = requests.Session()\n",
    "import datetime\n",
    "import time\n",
    "\n",
    "now = datetime.datetime.now()\n",
    "\n",
    "wp = WikiParser()\n",
    "cat = \"Category:Marvel Comics superheroes\"\n",
    "titles = wp.get_category(cat)\n",
    "\n",
    "h_bios = []\n",
    "old_bios = []\n",
    "\n",
    "for _ in range(15):\n",
    "    print('page: ' + str(_) + ' parsing...', end=\" \")\n",
    "    new_bios = wp.get_all_bios(titles,'hero')\n",
    "    if new_bios == old_bios:\n",
    "        break\n",
    "    h_bios += new_bios\n",
    "    if wp.cmc != -1:\n",
    "        titles = wp.continue_category(cat)\n",
    "    old_bios = new_bios\n",
    "\n",
    "later = datetime.datetime.now()\n",
    "elapsed = later-now\n",
    "print(\"Time: \", elapsed) \n",
    "heroes = h_bios\n",
    "print(len(h_bios))"
   ]
  },
  {
   "cell_type": "code",
   "execution_count": null,
   "metadata": {},
   "outputs": [],
   "source": [
    "len(heroes)"
   ]
  },
  {
   "cell_type": "markdown",
   "metadata": {},
   "source": [
    "Now we perform the same operation, but for the villains."
   ]
  },
  {
   "cell_type": "code",
   "execution_count": null,
   "metadata": {},
   "outputs": [],
   "source": [
    "#S = requests.Session()\n",
    "import datetime\n",
    "import time\n",
    "\n",
    "now = datetime.datetime.now()\n",
    "\n",
    "wp_v = WikiParser()\n",
    "cat = \"Category:Marvel Comics supervillains\"\n",
    "titles = wp_v.get_category(cat)\n",
    "\n",
    "v_bios = []\n",
    "old_bios = []\n",
    "\n",
    "for _ in range(12):\n",
    "    print('page: ' + str(_) + ' parsing...', end=\" \")\n",
    "    new_bios = wp_v.get_all_bios(titles,'villain')\n",
    "    if new_bios == old_bios:\n",
    "        break\n",
    "    v_bios += new_bios\n",
    "    if wp_v.cmc != -1:\n",
    "        titles = wp_v.continue_category(cat)\n",
    "    old_bios = new_bios\n",
    "        \n",
    "villains = v_bios\n",
    "later = datetime.datetime.now()\n",
    "elapsed = later-now\n",
    "print(\"Time: \", elapsed)    \n",
    "print(len(v_bios))"
   ]
  },
  {
   "cell_type": "markdown",
   "metadata": {},
   "source": [
    "Finally we compile heroes and villains into a single dataframe, and export it to a Json file."
   ]
  },
  {
   "cell_type": "code",
   "execution_count": null,
   "metadata": {},
   "outputs": [],
   "source": [
    "all_marvel = villains + heroes"
   ]
  },
  {
   "cell_type": "code",
   "execution_count": null,
   "metadata": {},
   "outputs": [],
   "source": [
    "len(all_marvel)"
   ]
  },
  {
   "cell_type": "code",
   "execution_count": null,
   "metadata": {},
   "outputs": [],
   "source": [
    "import pandas as pd\n",
    "\n",
    "marvel_df = pd.DataFrame.from_dict(all_marvel)\n",
    "marvel_df.head()\n",
    "#marvel_df.to_json('marvel_bios.json')"
   ]
  },
  {
   "cell_type": "markdown",
   "metadata": {},
   "source": [
    "We also experimented with taking some DC bios, but ultimately we decided it wasn't necessary."
   ]
  },
  {
   "cell_type": "code",
   "execution_count": null,
   "metadata": {},
   "outputs": [],
   "source": [
    "wp = WikiParser()\n",
    "cat = \"Category:DC Comics superheroes\"\n",
    "titles = wp.get_category(cat)\n",
    "\n",
    "bios = []\n",
    "old_bios = []\n",
    "\n",
    "for _ in range(10):\n",
    "    print('page: ' + str(_) + ' parsing...', end=\" \")\n",
    "    new_bios = wp.get_all_bios(titles,'hero')\n",
    "    if new_bios == old_bios:\n",
    "        break\n",
    "    bios += new_bios\n",
    "    if wp.cmc != -1:\n",
    "        titles = wp.continue_category(cat)\n",
    "    old_bios = new_bios\n",
    "    \n",
    "print(len(bios))\n",
    "dc_heroes = bios"
   ]
  },
  {
   "cell_type": "code",
   "execution_count": null,
   "metadata": {},
   "outputs": [],
   "source": [
    "len(dc_heroes)\n",
    "len(wp.ambiguation)"
   ]
  },
  {
   "cell_type": "code",
   "execution_count": null,
   "metadata": {},
   "outputs": [],
   "source": [
    "wp_v = WikiParser()\n",
    "cat = \"Category:DC Comics supervillains\"\n",
    "titles = wp_v.get_category(cat)\n",
    "\n",
    "bios = []\n",
    "\n",
    "for _ in range(8):\n",
    "    print('page: ' + str(_) + ' parsing...', end=\" \")\n",
    "    new_bios = wp_v.get_all_bios(titles,'villain')\n",
    "    bios += new_bios\n",
    "    if wp_v.cmc != -1:\n",
    "        titles = wp_v.continue_category(cat)\n",
    "    \n",
    "print(len(bios))\n",
    "dc_villains = bios"
   ]
  },
  {
   "cell_type": "code",
   "execution_count": null,
   "metadata": {},
   "outputs": [],
   "source": []
  }
 ],
 "metadata": {
  "kernelspec": {
   "display_name": "learn-env",
   "language": "python",
   "name": "learn-env"
  },
  "language_info": {
   "codemirror_mode": {
    "name": "ipython",
    "version": 3
   },
   "file_extension": ".py",
   "mimetype": "text/x-python",
   "name": "python",
   "nbconvert_exporter": "python",
   "pygments_lexer": "ipython3",
   "version": "3.7.1"
  }
 },
 "nbformat": 4,
 "nbformat_minor": 2
}
