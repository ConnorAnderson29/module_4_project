{
 "cells": [
  {
   "cell_type": "code",
   "execution_count": 2,
   "metadata": {},
   "outputs": [],
   "source": [
    "import requests\n",
    "import wikipedia\n",
    "import string\n",
    "from wikiparse import WikiParser\n",
    "%load_ext autoreload\n",
    "%autoreload 2"
   ]
  },
  {
   "cell_type": "code",
   "execution_count": 3,
   "metadata": {},
   "outputs": [
    {
     "data": {
      "text/plain": [
       "['Kyle Abbot',\n",
       " 'Abra Kadabra (comics)',\n",
       " 'Ace of Spades (comics)',\n",
       " \"Whisper A'Daire\",\n",
       " 'Aegeus (comics)',\n",
       " 'Agamemno',\n",
       " 'Agent Axis (DC Comics)',\n",
       " 'Agent Liberty',\n",
       " 'Larfleeze',\n",
       " \"Ra's al Ghul\",\n",
       " 'Talia al Ghul',\n",
       " 'Beth Kane',\n",
       " 'Alpha (DC Comics)',\n",
       " 'Amazo',\n",
       " 'Amygdala (comics)',\n",
       " 'Anarky',\n",
       " 'Hawkman (Fel Andar)',\n",
       " 'Angle Man',\n",
       " 'Animal-Vegetable-Mineral Man',\n",
       " 'Anti-Monitor']"
      ]
     },
     "execution_count": 3,
     "metadata": {},
     "output_type": "execute_result"
    }
   ],
   "source": [
    "S = requests.Session()\n",
    "\n",
    "URL = \"https://en.wikipedia.org/w/api.php\"\n",
    "\n",
    "TITLE = \"Category:DC Comics supervillains\"\n",
    "\n",
    "PARAMS = {\n",
    "    'action': \"query\",\n",
    "    'list': 'categorymembers',\n",
    "    'cmtitle': TITLE,\n",
    "    'cmlimit': '100',\n",
    "    'format': \"json\",\n",
    "}\n",
    "\n",
    "R = S.get(url=URL, params=PARAMS)\n",
    "DATA = R.json()\n",
    "ids = [item['title'] for ind,item in enumerate(DATA['query']['categorymembers'])]\n",
    "ids[:20]"
   ]
  },
  {
   "cell_type": "code",
   "execution_count": 5,
   "metadata": {},
   "outputs": [
    {
     "data": {
      "text/plain": [
       "100"
      ]
     },
     "execution_count": 5,
     "metadata": {},
     "output_type": "execute_result"
    }
   ],
   "source": [
    "len(ids)"
   ]
  },
  {
   "cell_type": "code",
   "execution_count": 4,
   "metadata": {},
   "outputs": [],
   "source": [
    "bios = []\n",
    "miss = 0\n",
    "\n",
    "for id in ids:\n",
    "    try:\n",
    "        hero = wikipedia.page(id)\n",
    "        bio = get_bio(hero)\n",
    "        if bio != -1:\n",
    "            bios.append(bio)\n",
    "    except wikipedia.exceptions.DisambiguationError:\n",
    "        miss += 1"
   ]
  },
  {
   "cell_type": "code",
   "execution_count": 4,
   "metadata": {},
   "outputs": [],
   "source": [
    "page = wikipedia.page('abigail Brand')\n",
    "w = WikiParser()\n",
    "# tests = w.get_all_bios(ids,'villain')\n",
    "# tests[:5]"
   ]
  },
  {
   "cell_type": "code",
   "execution_count": 91,
   "metadata": {},
   "outputs": [],
   "source": [
    "fulltext = c.content"
   ]
  },
  {
   "cell_type": "code",
   "execution_count": 19,
   "metadata": {},
   "outputs": [
    {
     "name": "stdout",
     "output_type": "stream",
     "text": [
      "page: 0 parsing... . . . . . . . . . .  \n",
      "page: 1 parsing... . . . . . . . . . .  \n",
      "page: 2 parsing... . . . . . . . . . .  \n",
      "page: 3 parsing... . . . . . . . . . .  \n",
      "page: 4 parsing... . . . . . . . . . .  \n",
      "page: 5 parsing... . . . . . . . . . .  \n",
      "page: 6 parsing... . . . . . . . . . .  \n",
      "page: 7 parsing... . . . . . . . . . .  \n",
      "page: 8 parsing... . . . . . . . . .  \n",
      "page: 9 parsing... . . . . . . . . .  \n",
      "Time:  0:09:15.125692\n",
      "382\n"
     ]
    }
   ],
   "source": [
    "#S = requests.Session()\n",
    "import datetime\n",
    "import time\n",
    "\n",
    "now = datetime.datetime.now()\n",
    "\n",
    "wp = WikiParser()\n",
    "cat = \"Category:Marvel Comics superheroes\"\n",
    "titles = wp.get_category(cat)\n",
    "\n",
    "h_bios = []\n",
    "old_bios = []\n",
    "\n",
    "for _ in range(15):\n",
    "    print('page: ' + str(_) + ' parsing...', end=\" \")\n",
    "    new_bios = wp.get_all_bios(titles,'hero')\n",
    "    if new_bios == old_bios:\n",
    "        break\n",
    "    h_bios += new_bios\n",
    "    if wp.cmc != -1:\n",
    "        titles = wp.continue_category(cat)\n",
    "    old_bios = new_bios\n",
    "\n",
    "later = datetime.datetime.now()\n",
    "elapsed = later-now\n",
    "print(\"Time: \", elapsed) \n",
    "heroes = h_bios\n",
    "print(len(h_bios))"
   ]
  },
  {
   "cell_type": "code",
   "execution_count": 20,
   "metadata": {},
   "outputs": [
    {
     "data": {
      "text/plain": [
       "380"
      ]
     },
     "execution_count": 20,
     "metadata": {},
     "output_type": "execute_result"
    }
   ],
   "source": [
    "len(heroes)"
   ]
  },
  {
   "cell_type": "code",
   "execution_count": 16,
   "metadata": {},
   "outputs": [
    {
     "name": "stdout",
     "output_type": "stream",
     "text": [
      "page: 0 parsing... . . . . . . . . . .  \n",
      "page: 1 parsing... . . . . . . . . . .  \n",
      "page: 2 parsing... . . . . . . . . . .  \n",
      "page: 3 parsing... . . . . . . . . . .  \n",
      "page: 4 parsing... . . . . . . . . . .  \n",
      "page: 5 parsing... . . . . . . . . . .  \n",
      "page: 6 parsing... . . . . . . . . . .  \n",
      "page: 7 parsing... . . . . . . . . . .  \n",
      "page: 8 parsing... . . . . . . . . . .  \n",
      "page: 9 parsing... . . . . . . . . . .  \n",
      "page: 10 parsing... . . . . . . . . . .  \n",
      "page: 11 parsing... . .  \n",
      "Time:  0:17:22.420288\n",
      "382\n"
     ]
    }
   ],
   "source": [
    "#S = requests.Session()\n",
    "import datetime\n",
    "import time\n",
    "\n",
    "now = datetime.datetime.now()\n",
    "\n",
    "wp_v = WikiParser()\n",
    "cat = \"Category:Marvel Comics supervillains\"\n",
    "titles = wp_v.get_category(cat)\n",
    "\n",
    "v_bios = []\n",
    "old_bios = []\n",
    "\n",
    "for _ in range(12):\n",
    "    print('page: ' + str(_) + ' parsing...', end=\" \")\n",
    "    new_bios = wp_v.get_all_bios(titles,'villain')\n",
    "    if new_bios == old_bios:\n",
    "        break\n",
    "    v_bios += new_bios\n",
    "    if wp_v.cmc != -1:\n",
    "        titles = wp_v.continue_category(cat)\n",
    "    old_bios = new_bios\n",
    "        \n",
    "villains = v_bios\n",
    "later = datetime.datetime.now()\n",
    "elapsed = later-now\n",
    "print(\"Time: \", elapsed)    \n",
    "print(len(v_bios))"
   ]
  },
  {
   "cell_type": "code",
   "execution_count": 17,
   "metadata": {},
   "outputs": [
    {
     "data": {
      "text/plain": [
       "382"
      ]
     },
     "execution_count": 17,
     "metadata": {},
     "output_type": "execute_result"
    }
   ],
   "source": [
    "v_bios = bios\n",
    "villains = v_bios\n",
    "len(villains)"
   ]
  },
  {
   "cell_type": "code",
   "execution_count": 21,
   "metadata": {},
   "outputs": [],
   "source": [
    "all_marvel = villains + heroes"
   ]
  },
  {
   "cell_type": "code",
   "execution_count": 22,
   "metadata": {},
   "outputs": [
    {
     "data": {
      "text/plain": [
       "762"
      ]
     },
     "execution_count": 22,
     "metadata": {},
     "output_type": "execute_result"
    }
   ],
   "source": [
    "len(all_marvel)"
   ]
  },
  {
   "cell_type": "code",
   "execution_count": 81,
   "metadata": {},
   "outputs": [
    {
     "data": {
      "text/plain": [
       "20"
      ]
     },
     "execution_count": 81,
     "metadata": {},
     "output_type": "execute_result"
    }
   ],
   "source": [
    "len(wp_v.ambiguation)"
   ]
  },
  {
   "cell_type": "code",
   "execution_count": 25,
   "metadata": {},
   "outputs": [],
   "source": [
    "import pandas as pd\n",
    "\n",
    "marvel_df = pd.DataFrame.from_dict(all_marvel)\n",
    "marvel_df.head()\n",
    "marvel_df.to_json('marvel_bios.json')"
   ]
  },
  {
   "cell_type": "code",
   "execution_count": 78,
   "metadata": {},
   "outputs": [
    {
     "data": {
      "text/plain": [
       "(793, 2)"
      ]
     },
     "execution_count": 78,
     "metadata": {},
     "output_type": "execute_result"
    }
   ],
   "source": [
    "marvel_df[~marvel_df['bio'].isna()].shape"
   ]
  },
  {
   "cell_type": "code",
   "execution_count": 5,
   "metadata": {},
   "outputs": [
    {
     "name": "stdout",
     "output_type": "stream",
     "text": [
      "page: 0 parsing... . . . . . . . . . .  \n",
      "page: 1 parsing... . . . . . . . . . .  \n",
      "page: 2 parsing... . . . . . . . . . .  \n",
      "page: 3 parsing... . . . . . . . . . .  \n",
      "page: 4 parsing... . . . . . . . . . .  \n",
      "page: 5 parsing... . . . . . . . . . .  \n",
      "page: 6 parsing... . . . . . . . . . .  \n",
      "page: 7 parsing... . . . . . . . . . .  \n",
      "page: 8 parsing... . . . . . . .  \n",
      "page: 9 parsing... . . . . . . .  \n"
     ]
    }
   ],
   "source": [
    "wp = WikiParser()\n",
    "cat = \"Category:DC Comics superheroes\"\n",
    "titles = wp.get_category(cat)\n",
    "\n",
    "bios = []\n",
    "old_bios = []\n",
    "\n",
    "for _ in range(10):\n",
    "    print('page: ' + str(_) + ' parsing...', end=\" \")\n",
    "    new_bios = wp.get_all_bios(titles,'hero')\n",
    "    if new_bios == old_bios:\n",
    "        break\n",
    "    bios += new_bios\n",
    "    if wp.cmc != -1:\n",
    "        titles = wp.continue_category(cat)\n",
    "    old_bios = new_bios\n",
    "    \n",
    "print(len(bios))\n",
    "dc_heroes = bios"
   ]
  },
  {
   "cell_type": "code",
   "execution_count": 8,
   "metadata": {},
   "outputs": [
    {
     "data": {
      "text/plain": [
       "6"
      ]
     },
     "execution_count": 8,
     "metadata": {},
     "output_type": "execute_result"
    }
   ],
   "source": [
    "len(dc_heroes)\n",
    "len(wp.ambiguation)"
   ]
  },
  {
   "cell_type": "code",
   "execution_count": 9,
   "metadata": {},
   "outputs": [
    {
     "name": "stdout",
     "output_type": "stream",
     "text": [
      "page: 0 parsing... . . . . . . . . . .  \n",
      "page: 1 parsing... . . . . . . . . . .  \n",
      "page: 2 parsing... . . . . . . . . . .  \n",
      "page: 3 parsing... . . . . . . . . . .  \n",
      "page: 4 parsing... . . . . . . . . . .  \n",
      "page: 5 parsing... . . . . . . . . . .  \n",
      "page: 6 parsing... . . . . . . . . . .  \n",
      "page: 7 parsing... . . . . . .  \n",
      "174\n"
     ]
    }
   ],
   "source": [
    "wp_v = WikiParser()\n",
    "cat = \"Category:DC Comics supervillains\"\n",
    "titles = wp_v.get_category(cat)\n",
    "\n",
    "bios = []\n",
    "\n",
    "for _ in range(8):\n",
    "    print('page: ' + str(_) + ' parsing...', end=\" \")\n",
    "    new_bios = wp_v.get_all_bios(titles,'villain')\n",
    "    bios += new_bios\n",
    "    if wp_v.cmc != -1:\n",
    "        titles = wp_v.continue_category(cat)\n",
    "    \n",
    "print(len(bios))\n",
    "dc_villains = bios"
   ]
  },
  {
   "cell_type": "code",
   "execution_count": null,
   "metadata": {},
   "outputs": [],
   "source": []
  }
 ],
 "metadata": {
  "kernelspec": {
   "display_name": "learn-env",
   "language": "python",
   "name": "learn-env"
  },
  "language_info": {
   "codemirror_mode": {
    "name": "ipython",
    "version": 3
   },
   "file_extension": ".py",
   "mimetype": "text/x-python",
   "name": "python",
   "nbconvert_exporter": "python",
   "pygments_lexer": "ipython3",
   "version": "3.7.1"
  }
 },
 "nbformat": 4,
 "nbformat_minor": 2
}
